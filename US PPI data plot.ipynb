{
 "cells": [
  {
   "cell_type": "code",
   "execution_count": 1,
   "id": "013d9693",
   "metadata": {},
   "outputs": [],
   "source": [
    "from bokeh.plotting import figure, show\n",
    "from bokeh.models import HoverTool\n",
    "from pandas_datareader import data as pdr\n",
    "import datetime as dt\n",
    "\n",
    "def get_ppi_data(beg_date=\"1986-01-01\", end_date=dt.datetime.today().strftime('%Y-%m-%d')):\n",
    "    # Download US PPI data\n",
    "    ppi = pdr.DataReader('PPIACO', 'fred', start=beg_date, end=end_date)\n",
    "    return ppi\n",
    "\n",
    "def ppi_plot(data):\n",
    "    # Create a figure\n",
    "    p = figure(title='US Producer Price Index (PPI)', x_axis_label='Date', y_axis_label='PPI')\n",
    "\n",
    "    # Add a line plot for US PPI\n",
    "    p.line(data.index, data['PPIACO'], legend_label='PPI', line_color='green')\n",
    "\n",
    "    # Add hover tool\n",
    "    hover = HoverTool()\n",
    "    hover.tooltips = [(\"Date\", \"@x{%F}\"), (\"PPI\", \"@y\")]\n",
    "    hover.formatters = {'@x': 'datetime'}\n",
    "    p.add_tools(hover)\n",
    "\n",
    "    # Show the plot in browser\n",
    "    show(p)\n",
    "\n",
    "if __name__ == '__main__':\n",
    "    ppi_data = get_ppi_data()\n",
    "    ppi_plot(ppi_data)\n"
   ]
  },
  {
   "cell_type": "code",
   "execution_count": null,
   "id": "8f2c0bb6",
   "metadata": {},
   "outputs": [],
   "source": []
  }
 ],
 "metadata": {
  "kernelspec": {
   "display_name": "Python 3 (ipykernel)",
   "language": "python",
   "name": "python3"
  },
  "language_info": {
   "codemirror_mode": {
    "name": "ipython",
    "version": 3
   },
   "file_extension": ".py",
   "mimetype": "text/x-python",
   "name": "python",
   "nbconvert_exporter": "python",
   "pygments_lexer": "ipython3",
   "version": "3.11.5"
  }
 },
 "nbformat": 4,
 "nbformat_minor": 5
}
