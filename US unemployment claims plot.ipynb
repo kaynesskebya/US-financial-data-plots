{
 "cells": [
  {
   "cell_type": "code",
   "execution_count": 2,
   "id": "f6d39d95",
   "metadata": {},
   "outputs": [],
   "source": [
    "from bokeh.plotting import figure, output_file, show\n",
    "from bokeh.models import HoverTool\n",
    "import requests\n",
    "import pandas as pd\n",
    "\n",
    "# Function to fetch data from FRED API\n",
    "def fetch_us_unemployment_claims():\n",
    "    url = 'https://api.stlouisfed.org/fred/series/observations'\n",
    "    params = {\n",
    "        'series_id': 'ICSA',\n",
    "        'api_key': 'd9948790ea4e3cd88cc398776233755c',  # Replace with your FRED API key\n",
    "        'file_type': 'json'\n",
    "    }\n",
    "\n",
    "    response = requests.get(url, params=params)\n",
    "    data = response.json()\n",
    "\n",
    "    if 'observations' in data and data['observations']:\n",
    "        observations = data['observations']\n",
    "        date = [entry['date'] for entry in observations]\n",
    "        value = [entry['value'] for entry in observations]\n",
    "        df = pd.DataFrame({'date': date, 'value': value})\n",
    "        df['date'] = pd.to_datetime(df['date'])\n",
    "        df['value'] = pd.to_numeric(df['value'])\n",
    "        return df\n",
    "    else:\n",
    "        print(\"No data available.\")\n",
    "        return None\n",
    "\n",
    "# Fetch data\n",
    "unemployment_data = fetch_us_unemployment_claims()\n",
    "\n",
    "# Plotting using Bokeh with hover tool\n",
    "if unemployment_data is not None:\n",
    "    output_file(\"unemployment_claims_plot.html\")  # Output the plot to an HTML file\n",
    "\n",
    "    hover = HoverTool(tooltips=[('Date', '@date{%F}'), ('Claims', '@value')], formatters={'@date': 'datetime'})\n",
    "\n",
    "    p = figure(title='US Unemployment Claims', x_axis_label='Date', y_axis_label='Claims', x_axis_type='datetime',\n",
    "               tools=[hover, 'pan', 'wheel_zoom', 'reset'])\n",
    "\n",
    "    p.line(x='date', y='value', line_color='blue', line_width=2, source=unemployment_data)\n",
    "\n",
    "    show(p)  # Opens the plot in a browser\n"
   ]
  },
  {
   "cell_type": "code",
   "execution_count": null,
   "id": "4e6e9e72",
   "metadata": {},
   "outputs": [],
   "source": []
  },
  {
   "cell_type": "code",
   "execution_count": null,
   "id": "a79d9f92",
   "metadata": {},
   "outputs": [],
   "source": []
  }
 ],
 "metadata": {
  "kernelspec": {
   "display_name": "Python 3 (ipykernel)",
   "language": "python",
   "name": "python3"
  },
  "language_info": {
   "codemirror_mode": {
    "name": "ipython",
    "version": 3
   },
   "file_extension": ".py",
   "mimetype": "text/x-python",
   "name": "python",
   "nbconvert_exporter": "python",
   "pygments_lexer": "ipython3",
   "version": "3.11.5"
  }
 },
 "nbformat": 4,
 "nbformat_minor": 5
}
