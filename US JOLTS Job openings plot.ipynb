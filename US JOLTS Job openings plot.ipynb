{
 "cells": [
  {
   "cell_type": "code",
   "execution_count": 3,
   "id": "52b505a2",
   "metadata": {},
   "outputs": [],
   "source": [
    "from bokeh.plotting import figure, show\n",
    "from bokeh.models import HoverTool\n",
    "from pandas_datareader import data as pdr\n",
    "import datetime as dt\n",
    "\n",
    "def get_jolts_data(beg_date=\"2000-01-01\", end_date=dt.datetime.today().strftime('%Y-%m-%d')):\n",
    "    # Download JOLTS job openings data\n",
    "    jolts = pdr.DataReader('JTSJOL', 'fred', start=beg_date, end=end_date)\n",
    "    return jolts\n",
    "\n",
    "def jolts_plot(data):\n",
    "    # Create a figure\n",
    "    p = figure(title='US JOLTS Job Openings', x_axis_label='Date', y_axis_label='Job Openings')\n",
    "\n",
    "    # Add a line plot for JOLTS job openings\n",
    "    p.line(data.index, data['JTSJOL'], legend_label='Job Openings', line_color='blue')\n",
    "\n",
    "    # Add hover tool\n",
    "    hover = HoverTool()\n",
    "    hover.tooltips = [(\"Date\", \"@x{%F}\"), (\"Job Openings\", \"@y\")]\n",
    "    hover.formatters = {'@x': 'datetime'}\n",
    "    p.add_tools(hover)\n",
    "\n",
    "    # Show the plot in browser\n",
    "    show(p)\n",
    "\n",
    "if __name__ == '__main__':\n",
    "    jolts_data = get_jolts_data()\n",
    "    jolts_plot(jolts_data)\n"
   ]
  },
  {
   "cell_type": "code",
   "execution_count": null,
   "id": "299eb660",
   "metadata": {},
   "outputs": [],
   "source": []
  }
 ],
 "metadata": {
  "kernelspec": {
   "display_name": "Python 3 (ipykernel)",
   "language": "python",
   "name": "python3"
  },
  "language_info": {
   "codemirror_mode": {
    "name": "ipython",
    "version": 3
   },
   "file_extension": ".py",
   "mimetype": "text/x-python",
   "name": "python",
   "nbconvert_exporter": "python",
   "pygments_lexer": "ipython3",
   "version": "3.11.5"
  }
 },
 "nbformat": 4,
 "nbformat_minor": 5
}
