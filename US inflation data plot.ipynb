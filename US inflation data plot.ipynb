{
 "cells": [
  {
   "cell_type": "code",
   "execution_count": 1,
   "id": "93e1bdf6",
   "metadata": {},
   "outputs": [],
   "source": [
    "import pandas_datareader as pdr\n",
    "import datetime as dt\n",
    "from bokeh.plotting import figure, output_file, show\n",
    "from bokeh.models import ColumnDataSource, HoverTool\n",
    "\n",
    "def get_us_inflation_data(beg_date=\"1948-01-01\", end_date=dt.datetime.today().strftime('%Y-%m-%d')):\n",
    "    # Download US Inflation (CPI) Data\n",
    "    inflation_data = pdr.get_data_fred('CPIAUCSL', start=beg_date, end=end_date)\n",
    "    return inflation_data\n",
    "\n",
    "def us_inflation_plot(data):\n",
    "    # Convert DataFrame to ColumnDataSource\n",
    "    source = ColumnDataSource(data.reset_index())  # Resetting index to include 'DATE' as a column\n",
    "\n",
    "    # Plotting US Inflation (CPI) Data with Hover Tool\n",
    "    hover = HoverTool(\n",
    "        tooltips=[\n",
    "            ('Date', '@DATE{%F}'),\n",
    "            ('Inflation (CPI)', '@CPIAUCSL')\n",
    "        ],\n",
    "        formatters={\n",
    "            '@DATE': 'datetime'\n",
    "        },\n",
    "        mode='vline'\n",
    "    )\n",
    "\n",
    "    fig = figure(x_axis_type='datetime', title='US Inflation (Consumer Price Index)', tools=[hover, 'pan', 'wheel_zoom', 'reset'])\n",
    "    fig.line(x='DATE', y='CPIAUCSL', source=source, legend_label='Inflation (CPI)', color='red', line_width=2)\n",
    "    fig.legend.click_policy = 'hide'\n",
    "    output_file('us_inflation_cpi_interactive_plot.html')\n",
    "    show(fig)\n",
    "\n",
    "if __name__ == '__main__':\n",
    "    us_inflation_data = get_us_inflation_data()\n",
    "    us_inflation_plot(us_inflation_data)\n"
   ]
  },
  {
   "cell_type": "code",
   "execution_count": null,
   "id": "520971a8",
   "metadata": {},
   "outputs": [],
   "source": []
  }
 ],
 "metadata": {
  "kernelspec": {
   "display_name": "Python 3 (ipykernel)",
   "language": "python",
   "name": "python3"
  },
  "language_info": {
   "codemirror_mode": {
    "name": "ipython",
    "version": 3
   },
   "file_extension": ".py",
   "mimetype": "text/x-python",
   "name": "python",
   "nbconvert_exporter": "python",
   "pygments_lexer": "ipython3",
   "version": "3.11.5"
  }
 },
 "nbformat": 4,
 "nbformat_minor": 5
}
