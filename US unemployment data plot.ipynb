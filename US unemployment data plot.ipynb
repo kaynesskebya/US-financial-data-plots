{
 "cells": [
  {
   "cell_type": "code",
   "execution_count": 3,
   "id": "821d7fc8",
   "metadata": {},
   "outputs": [],
   "source": [
    "import pandas_datareader as pdr\n",
    "import datetime as dt\n",
    "from bokeh.plotting import figure, output_file, show\n",
    "from bokeh.models import ColumnDataSource, HoverTool\n",
    "\n",
    "def get_us_unemployment_rate(beg_date=\"1948-01-01\", end_date=dt.datetime.today().strftime('%Y-%m-%d')):\n",
    "    # Download US Unemployment Rate Data\n",
    "    unemployment_data = pdr.get_data_fred('UNRATE', start=beg_date, end=end_date)\n",
    "    return unemployment_data\n",
    "\n",
    "def us_unemployment_rate_plot(data):\n",
    "    # Convert DataFrame to ColumnDataSource\n",
    "    source = ColumnDataSource(data.reset_index())  # Resetting index to include 'DATE' as a column\n",
    "\n",
    "    # Plotting US Unemployment Rate with Hover Tool\n",
    "    hover = HoverTool(\n",
    "        tooltips=[\n",
    "            ('Date', '@DATE{%F}'),\n",
    "            ('Unemployment Rate', '@UNRATE')\n",
    "        ],\n",
    "        formatters={\n",
    "            '@DATE': 'datetime'\n",
    "        },\n",
    "        mode='vline'\n",
    "    )\n",
    "\n",
    "    fig = figure(x_axis_type='datetime', title='US Unemployment Rate', tools=[hover, 'pan', 'wheel_zoom', 'reset'])\n",
    "    fig.line(x='DATE', y='UNRATE', source=source, legend_label='Unemployment Rate', color='blue', line_width=2)\n",
    "    fig.legend.click_policy = 'hide'\n",
    "    output_file('us_unemployment_rate_interactive_plot.html')\n",
    "    show(fig)\n",
    "\n",
    "if __name__ == '__main__':\n",
    "    us_unemployment_data = get_us_unemployment_rate()\n",
    "    us_unemployment_rate_plot(us_unemployment_data)\n"
   ]
  },
  {
   "cell_type": "code",
   "execution_count": null,
   "id": "03b4e373",
   "metadata": {},
   "outputs": [],
   "source": []
  }
 ],
 "metadata": {
  "kernelspec": {
   "display_name": "Python 3 (ipykernel)",
   "language": "python",
   "name": "python3"
  },
  "language_info": {
   "codemirror_mode": {
    "name": "ipython",
    "version": 3
   },
   "file_extension": ".py",
   "mimetype": "text/x-python",
   "name": "python",
   "nbconvert_exporter": "python",
   "pygments_lexer": "ipython3",
   "version": "3.11.5"
  }
 },
 "nbformat": 4,
 "nbformat_minor": 5
}
